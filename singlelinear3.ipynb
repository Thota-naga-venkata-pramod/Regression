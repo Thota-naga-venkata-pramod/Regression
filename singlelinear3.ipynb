{
  "nbformat": 4,
  "nbformat_minor": 0,
  "metadata": {
    "colab": {
      "provenance": [],
      "authorship_tag": "ABX9TyOtxNVcJroNXu6XkizwqwjM",
      "include_colab_link": true
    },
    "kernelspec": {
      "name": "python3",
      "display_name": "Python 3"
    },
    "language_info": {
      "name": "python"
    }
  },
  "cells": [
    {
      "cell_type": "markdown",
      "metadata": {
        "id": "view-in-github",
        "colab_type": "text"
      },
      "source": [
        "<a href=\"https://colab.research.google.com/github/Thota-naga-venkata-pramod/machinelearning_linear1/blob/master/singlelinear3.ipynb\" target=\"_parent\"><img src=\"https://colab.research.google.com/assets/colab-badge.svg\" alt=\"Open In Colab\"/></a>"
      ]
    },
    {
      "cell_type": "code",
      "source": [
        "# import necessary libraries\n",
        "import numpy as np\n",
        "import matplotlib.pyplot as plt\n",
        "from sklearn.linear_model import LinearRegression\n",
        "\n",
        "# create some sample data\n",
        "X = np.array([[1],[2], [3],[4], [5]])\n",
        "y = np.array([3, 4, 5, 6, 7])                          #we can give it as y = np.array([[3],[4],[5],[6],[7]])\n",
        "\n",
        "# create a linear regression model and fit it to the data\n",
        "model = LinearRegression()                            #The fit() method is used to train the model on the given input data (X) and output data (y), using a linear regression algorithm. In other words, the fit() method estimates the model parameters (i.e., the slope and intercept of the line of best fit) based on the input-output pairs provided in the training data                                      #Once the model is trained, it can be used to make predictions on new input data using the predict() method.\n",
        "model.fit(X, y)\n",
        "\n",
        "# predict the output for some new input\n",
        "X_new = np.array([[6], [7], [8]])                     #here also expected 2D array for  all inputs\n",
        "y_pred = model.predict(X_new)\n",
        "print(y_pred)\n",
        "\n",
        "# plot the results\n",
        "plt.scatter(X, y, color='red')\n",
        "plt.scatter(X_new, y_pred, color='blue',linewidth=4)\n",
        "plt.xlabel('X')\n",
        "plt.ylabel('y')\n",
        "plt.show()"
      ],
      "metadata": {
        "colab": {
          "base_uri": "https://localhost:8080/",
          "height": 296
        },
        "id": "tfks-quD_wgg",
        "outputId": "df3da3dd-121c-499a-a9ba-1696c58f36a4"
      },
      "execution_count": 32,
      "outputs": [
        {
          "output_type": "stream",
          "name": "stdout",
          "text": [
            "[ 8.  9. 10.]\n"
          ]
        },
        {
          "output_type": "display_data",
          "data": {
            "text/plain": [
              "<Figure size 432x288 with 1 Axes>"
            ],
            "image/png": "[encoded data removed]"
          },
          "metadata": {
            "needs_background": "light"
          }
        }
      ]
    },
    {
      "cell_type": "markdown",
      "source": [
        "X = np.array([[1], [2], [3], [4], [5]])\n",
        "\n",
        "This is because scikit-learn's LinearRegression module expects the input data to be a 2D array or matrix, even if there is only one input variable.\n",
        "\n",
        "By convention, the input data matrix X is usually represented as a 2D array with shape (n_samples, n_features), where n_samples is the number of samples or observations in the data set, and n_features is the number of input variables. In this case, we have 5 samples and 1 input variable, so X has shape (5, 1).\n",
        "\n",
        "If we had used a 1D array for X, scikit-learn would raise a ValueError because it expects a 2D array. For example, the following code would raise an error:\n",
        "\n",
        "X = np.array([1, 2, 3, 4, 5])\n",
        "model = LinearRegression()\n",
        "model.fit(X, y) # raises ValueError: Expected 2D array, got 1D array instead\n",
        "\n",
        "To avoid this error, we create X as a 2D array with a single column. This can be done using numpy's reshape() function:\n",
        "\n",
        "X = np.array([1, 2, 3, 4, 5]).reshape(-1, 1)\n",
        "\n",
        "Here, we use the reshape() function to convert the 1D array to a 2D array with one column and an unknown number of rows (-1), which is inferred automatically based on the size of the input array. This ensures that X is a 2D array, as required by scikit-learn's LinearRegression module."
      ],
      "metadata": {
        "id": "J0MSunlSFc9F"
      }
    }
  ]
}