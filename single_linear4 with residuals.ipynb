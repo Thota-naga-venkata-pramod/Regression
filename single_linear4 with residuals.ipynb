{
  "nbformat": 4,
  "nbformat_minor": 0,
  "metadata": {
    "colab": {
      "provenance": [],
      "authorship_tag": "ABX9TyOiO3GX0rkMLBtXn2sJyIZE",
      "include_colab_link": true
    },
    "kernelspec": {
      "name": "python3",
      "display_name": "Python 3"
    },
    "language_info": {
      "name": "python"
    }
  },
  "cells": [
    {
      "cell_type": "markdown",
      "metadata": {
        "id": "view-in-github",
        "colab_type": "text"
      },
      "source": [
        "<a href=\"https://colab.research.google.com/github/Thota-naga-venkata-pramod/Regression/blob/master/single_linear4%20with%20residuals.ipynb\" target=\"_parent\"><img src=\"https://colab.research.google.com/assets/colab-badge.svg\" alt=\"Open In Colab\"/></a>"
      ]
    },
    {
      "cell_type": "code",
      "execution_count": 5,
      "metadata": {
        "colab": {
          "base_uri": "https://localhost:8080/",
          "height": 330
        },
        "id": "RpPEy3xDgRtV",
        "outputId": "2f772768-3cc2-43af-c3e3-9465e8363aaa"
      },
      "outputs": [
        {
          "output_type": "stream",
          "name": "stdout",
          "text": [
            "[2.5 3.5 4.5 5.5 6.5]\n"
          ]
        },
        {
          "output_type": "display_data",
          "data": {
            "text/plain": [
              "<Figure size 432x288 with 1 Axes>"
            ],
            "image/png": "[encoded data removed]"
          },
          "metadata": {
            "needs_background": "light"
          }
        },
        {
          "output_type": "stream",
          "name": "stdout",
          "text": [
            "Residuals: [0. 0. 0. 0. 0.]\n"
          ]
        }
      ],
      "source": [
        "import numpy as np\n",
        "import matplotlib.pyplot as plt\n",
        "\n",
        "# Input data\n",
        "x = np.array([1, 2, 3, 4, 5])\n",
        "y = np.array([2.5, 3.5, 4.5, 5.5, 6.5])\n",
        "\n",
        "# Calculate regression coefficients\n",
        "b1, b0 = np.polyfit(x, y, 1)\n",
        "\n",
        "# Calculate predicted values\n",
        "y_pred = b1 * x + b0\n",
        "print(y_pred)\n",
        "\n",
        "# Calculate residuals\n",
        "residuals = y - y_pred\n",
        "\n",
        "# Plot data and regression line\n",
        "plt.scatter(x, y,color='violet')\n",
        "plt.plot(x, y_pred, color='red')\n",
        "\n",
        "\n",
        "\n",
        "# Add labels and title\n",
        "plt.xlabel('X')\n",
        "plt.ylabel('Y')\n",
        "plt.title('Simple Linear Regression')\n",
        "\n",
        "# Show plot\n",
        "plt.show()\n",
        "\n",
        "# Print residuals\n",
        "print('Residuals:', residuals)\n"
      ]
    }
  ]
}